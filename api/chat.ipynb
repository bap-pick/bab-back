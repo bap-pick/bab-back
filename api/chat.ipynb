{
 "cells": [
  {
   "cell_type": "code",
   "execution_count": 1,
   "id": "bc3c2324-3228-41ab-99ad-0f1376e81f1c",
   "metadata": {},
   "outputs": [
    {
     "ename": "ModuleNotFoundError",
     "evalue": "No module named 'core'",
     "output_type": "error",
     "traceback": [
      "\u001b[1;31m---------------------------------------------------------------------------\u001b[0m",
      "\u001b[1;31mModuleNotFoundError\u001b[0m                       Traceback (most recent call last)",
      "Cell \u001b[1;32mIn[1], line 4\u001b[0m\n\u001b[0;32m      2\u001b[0m \u001b[38;5;28;01mfrom\u001b[39;00m \u001b[38;5;21;01msqlalchemy\u001b[39;00m\u001b[38;5;21;01m.\u001b[39;00m\u001b[38;5;21;01morm\u001b[39;00m \u001b[38;5;28;01mimport\u001b[39;00m Session\n\u001b[0;32m      3\u001b[0m \u001b[38;5;28;01mfrom\u001b[39;00m \u001b[38;5;21;01mpydantic\u001b[39;00m \u001b[38;5;28;01mimport\u001b[39;00m BaseModel\n\u001b[1;32m----> 4\u001b[0m \u001b[38;5;28;01mfrom\u001b[39;00m \u001b[38;5;21;01mcore\u001b[39;00m\u001b[38;5;21;01m.\u001b[39;00m\u001b[38;5;21;01mdb\u001b[39;00m \u001b[38;5;28;01mimport\u001b[39;00m get_db\n\u001b[0;32m      5\u001b[0m \u001b[38;5;28;01mfrom\u001b[39;00m \u001b[38;5;21;01mcore\u001b[39;00m\u001b[38;5;21;01m.\u001b[39;00m\u001b[38;5;21;01mmodels\u001b[39;00m \u001b[38;5;28;01mimport\u001b[39;00m ChatRoom\n\u001b[0;32m      6\u001b[0m \u001b[38;5;28;01mfrom\u001b[39;00m \u001b[38;5;21;01mcore\u001b[39;00m\u001b[38;5;21;01m.\u001b[39;00m\u001b[38;5;21;01mfirebase_auth\u001b[39;00m \u001b[38;5;28;01mimport\u001b[39;00m verify_firebase_token\n",
      "\u001b[1;31mModuleNotFoundError\u001b[0m: No module named 'core'"
     ]
    }
   ],
   "source": [
    "from fastapi import APIRouter, Depends, HTTPException\n",
    "from sqlalchemy.orm import Session\n",
    "from pydantic import BaseModel\n",
    "from core.db import get_db\n",
    "from core.models import ChatRoom\n",
    "from core.firebase_auth import verify_firebase_token"
   ]
  },
  {
   "cell_type": "code",
   "execution_count": null,
   "id": "491bc5bf-7840-40c1-9d0e-6e2b31a8109b",
   "metadata": {},
   "outputs": [],
   "source": [
    "load_dotenv()"
   ]
  },
  {
   "cell_type": "code",
   "execution_count": null,
   "id": "3398bd99-9d8a-443b-bb67-1bbefbd2e068",
   "metadata": {},
   "outputs": [],
   "source": [
    "router = APIRouter(prefix=\"/chat\", tags=[\"chat\"])"
   ]
  },
  {
   "cell_type": "code",
   "execution_count": null,
   "id": "c28e1b47-b9e3-4e0a-882a-6a54c98573e2",
   "metadata": {},
   "outputs": [],
   "source": [
    "# 요청 모델\n",
    "class MessageRequest(BaseModel):\n",
    "    room_id: str\n",
    "    message: str\n",
    "\n",
    "class ChatRoomCreateRequest(BaseModel):\n",
    "    room_id: str"
   ]
  },
  {
   "cell_type": "code",
   "execution_count": null,
   "id": "ea9e1499-51e4-4ac5-a339-e22d2d0363d1",
   "metadata": {},
   "outputs": [],
   "source": [
    "# 채팅방 생성\n",
    "@router.post(\"/create\")\n",
    "async def create_chatroom(\n",
    "    data: ChatRoomCreate,\n",
    "    uid: str = Depends(verify_firebase_token),\n",
    "    db: Session = Depends(get_db)\n",
    "):\n",
    "    chatroom = ChatRoom(name=data.name, owner_uid=uid)\n",
    "    db.add(chatroom)\n",
    "    db.commit()\n",
    "    db.refresh(chatroom)\n",
    "    return {\"message\": \"채팅방 생성 완료\", \"chatroom_id\": chatroom.id}"
   ]
  },
  {
   "cell_type": "code",
   "execution_count": null,
   "id": "27aee705-fd7d-452b-bbc8-234cc781dd1e",
   "metadata": {},
   "outputs": [],
   "source": [
    "# 채팅방 목록 조회\n",
    "@router.get(\"/list\")\n",
    "async def list_chatrooms(\n",
    "    uid: str = Depends(verify_firebase_token),\n",
    "    db: Session = Depends(get_db)\n",
    "):\n",
    "    rooms = db.query(ChatRoom).filter(ChatRoom.owner_uid == uid).all()\n",
    "    return [\n",
    "        {\"id\": room.id, \"name\": room.name, \"created_at\": room.created_at}\n",
    "        for room in rooms\n",
    "    ]"
   ]
  },
  {
   "cell_type": "code",
   "execution_count": null,
   "id": "b1884745-d045-4b77-89b8-10bdf925eae1",
   "metadata": {},
   "outputs": [],
   "source": [
    "# 채팅방 삭제\n",
    "@router.delete(\"/{room_id}\")\n",
    "async def delete_chatroom(\n",
    "    room_id: int,\n",
    "    uid: str = Depends(verify_firebase_token),\n",
    "    db: Session = Depends(get_db)\n",
    "):\n",
    "    room = db.query(ChatRoom).filter(ChatRoom.id == room_id, ChatRoom.owner_uid == uid).first()\n",
    "    if not room:\n",
    "        raise HTTPException(status_code=404, detail=\"채팅방을 찾을 수 없음\")\n",
    "\n",
    "    db.delete(room)\n",
    "    db.commit()\n",
    "    return {\"message\": \"삭제 완료\"}"
   ]
  },
  {
   "cell_type": "code",
   "execution_count": null,
   "id": "092458b8-8c4f-421c-891b-71f0aa5133cb",
   "metadata": {},
   "outputs": [],
   "source": [
    "#채팅 보내기\n",
    "@router.post(\"/send\")\n",
    "def send_message(request: MessageRequest):\n",
    "    room_id = request.room_id\n",
    "    user_message = request.message\n",
    "\n",
    "    if room_id not in chat_rooms:\n",
    "        raise HTTPException(status_code=404, detail=\"채팅방을 찾을 수 없음\")\n",
    "\n",
    "    # 유저 메시지 저장\n",
    "    chat_rooms[room_id].append({\"role\": \"user\", \"content\": user_message})\n",
    "\n",
    "\n",
    "    #LLM API 호출\n",
    "    LLM_API_URL = os.getenv(\"LLM_API_URL\")\n",
    "    LLM_API_KEY = os.getenv(\"LLM_API_KEY\")\n",
    "\n",
    "    if not LLM_API_URL or not LLM_API_KEY:\n",
    "        raise HTTPException(status_code=500, detail=\"API 설정 누락\") #.env 확인\n",
    "\n",
    "    headers = {\n",
    "        \"Authorization\": f\"Bearer {LLM_API_KEY}\",\n",
    "        \"Content-Type\": \"application/json\"\n",
    "    }\n",
    "\n",
    "    payload = {\n",
    "        \"model\": \"gemma-3\",\n",
    "        \"messages\": chat_rooms[room_id]\n",
    "    }\n",
    "\n",
    "    try:\n",
    "        response = requests.post(LLM_API_URL, headers=headers, json=payload)\n",
    "        response.raise_for_status()\n",
    "        data = response.json()\n",
    "\n",
    "        assistant_reply = data.get(\"reply\", \"불러오기 실패\")\n",
    "        chat_rooms[room_id].append({\"role\": \"assistant\", \"content\": assistant_reply})\n",
    "\n",
    "        return {\"reply\": assistant_reply, \"history\": chat_rooms[room_id]}\n",
    "\n",
    "    except requests.RequestException as e:\n",
    "        raise HTTPException(status_code=500, detail=f\" API 호출 실패: "
   ]
  },
  {
   "cell_type": "code",
   "execution_count": null,
   "id": "a19af892-3e79-4ae7-915a-6886d3571c7c",
   "metadata": {},
   "outputs": [],
   "source": []
  },
  {
   "cell_type": "code",
   "execution_count": null,
   "id": "8d219563-02db-42b0-ac9e-833c9ec716ee",
   "metadata": {},
   "outputs": [],
   "source": []
  },
  {
   "cell_type": "code",
   "execution_count": null,
   "id": "808e6a85-36e4-4c56-bd76-0344ea2d7649",
   "metadata": {},
   "outputs": [],
   "source": []
  }
 ],
 "metadata": {
  "kernelspec": {
   "display_name": "Python [conda env:base] *",
   "language": "python",
   "name": "conda-base-py"
  },
  "language_info": {
   "codemirror_mode": {
    "name": "ipython",
    "version": 3
   },
   "file_extension": ".py",
   "mimetype": "text/x-python",
   "name": "python",
   "nbconvert_exporter": "python",
   "pygments_lexer": "ipython3",
   "version": "3.12.7"
  }
 },
 "nbformat": 4,
 "nbformat_minor": 5
}
